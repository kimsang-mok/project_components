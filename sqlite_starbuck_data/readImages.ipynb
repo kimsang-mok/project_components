{
 "cells": [
  {
   "cell_type": "code",
   "execution_count": 12,
   "metadata": {},
   "outputs": [
    {
     "name": "stdout",
     "output_type": "stream",
     "text": [
      "JSON data saved to image_data.json\n"
     ]
    }
   ],
   "source": [
    "import os\n",
    "import json\n",
    "\n",
    "image_folder = \"./images\"\n",
    "\n",
    "# Define the list to store dictionaries\n",
    "image_list = []\n",
    "\n",
    "# Iterate through the folder structure\n",
    "for root, dirs, files in os.walk(image_folder):\n",
    "    for file in files:\n",
    "        if file.endswith(\".jpg\"):\n",
    "            # Extract the item name and image path\n",
    "            item_name = os.path.splitext(file)[0]\n",
    "            image_path = os.path.join(root, file)\n",
    "\n",
    "            # Create a dictionary for each item\n",
    "            item_dict = {'type_id': 0, 'item_name': item_name, 'img_path': image_path}\n",
    "\n",
    "            # Add the dictionary to the list\n",
    "            image_list.append(item_dict)\n",
    "\n",
    "# Convert the list to JSON\n",
    "json_data = json.dumps(image_list, indent=4)\n",
    "\n",
    "# Save the JSON data to a file\n",
    "with open(\"refactored_image_data.json\", \"w\") as json_file:\n",
    "    json_file.write(json_data)\n",
    "\n",
    "print(\"JSON data saved to image_data.json\")"
   ]
  },
  {
   "cell_type": "code",
   "execution_count": null,
   "metadata": {},
   "outputs": [],
   "source": []
  }
 ],
 "metadata": {
  "kernelspec": {
   "display_name": "base",
   "language": "python",
   "name": "python3"
  },
  "language_info": {
   "codemirror_mode": {
    "name": "ipython",
    "version": 3
   },
   "file_extension": ".py",
   "mimetype": "text/x-python",
   "name": "python",
   "nbconvert_exporter": "python",
   "pygments_lexer": "ipython3",
   "version": "3.9.13"
  },
  "orig_nbformat": 4
 },
 "nbformat": 4,
 "nbformat_minor": 2
}
