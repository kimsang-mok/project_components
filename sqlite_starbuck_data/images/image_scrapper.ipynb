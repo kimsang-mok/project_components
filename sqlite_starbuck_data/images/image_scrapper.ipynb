{
 "cells": [
  {
   "cell_type": "code",
   "execution_count": 1,
   "metadata": {},
   "outputs": [],
   "source": [
    "import requests\n",
    "from bs4 import BeautifulSoup"
   ]
  },
  {
   "cell_type": "code",
   "execution_count": 2,
   "metadata": {},
   "outputs": [
    {
     "name": "stdout",
     "output_type": "stream",
     "text": [
      "Image Link: https://globalassets.starbucks.com/assets/3DB27F5E792C48E9B867A443AA648D26.jpg?impolicy=1by1_tight_288\n",
      "Alt Text: Oleato™\n",
      "\n",
      "Image Link: https://globalassets.starbucks.com/assets/f12bc8af498d45ed92c5d6f1dac64062.jpg?impolicy=1by1_tight_288\n",
      "Alt Text: Hot Coffees\n",
      "\n",
      "Image Link: https://globalassets.starbucks.com/assets/2d52f16a22fb40ff898be1815ecc952e.jpg?impolicy=1by1_tight_288\n",
      "Alt Text: Hot Teas\n",
      "\n",
      "Image Link: https://globalassets.starbucks.com/assets/677d276173ec4bc192c2b9a21776339f.jpg?impolicy=1by1_tight_288\n",
      "Alt Text: Hot Drinks\n",
      "\n",
      "Image Link: https://globalassets.starbucks.com/assets/7FD73D3C93AF43FFA84400A42EFC9F87.jpg?impolicy=1by1_tight_288\n",
      "Alt Text: Frappuccino® Blended Beverages\n",
      "\n",
      "Image Link: https://globalassets.starbucks.com/assets/3DB27F5E792C48E9B867A443AA648D26.jpg?impolicy=1by1_tight_288\n",
      "Alt Text: Cold Coffees\n",
      "\n",
      "Image Link: https://globalassets.starbucks.com/assets/de6d02e888c74eac9f6ea19c5492b8e8.jpg?impolicy=1by1_tight_288\n",
      "Alt Text: Iced Teas\n",
      "\n",
      "Image Link: https://globalassets.starbucks.com/assets/01453D57F71743A2B1EF8646604F6C38.jpg?impolicy=1by1_tight_288\n",
      "Alt Text: Cold Drinks\n",
      "\n",
      "Image Link: https://globalassets.starbucks.com/assets/012cdfb74d294be28ca6604768408c4b.jpg?impolicy=1by1_tight_288\n",
      "Alt Text: Hot Breakfast\n",
      "\n",
      "Image Link: https://globalassets.starbucks.com/assets/D1FB41D7B2A646A6865E707D25FB9CBF.jpg?impolicy=1by1_tight_288\n",
      "Alt Text: Oatmeal & Yogurt\n",
      "\n",
      "Image Link: https://globalassets.starbucks.com/assets/2362e79aa0ab4c37a930956c67ab557a.jpg?impolicy=1by1_tight_288\n",
      "Alt Text: Bakery\n",
      "\n",
      "Image Link: https://globalassets.starbucks.com/assets/02ea801e3aca434fa2fcccfcd4adba8c.jpg?impolicy=1by1_tight_288\n",
      "Alt Text: Lunch\n",
      "\n",
      "Image Link: https://globalassets.starbucks.com/assets/d76e82a4f5434f719083b3b2d03bf008.jpg?impolicy=1by1_tight_288\n",
      "Alt Text: Snacks & Sweets\n",
      "\n",
      "Image Link: https://globalassets.starbucks.com/assets/E318F702B9F6464DAF0E710B13A18AFD.jpg?impolicy=1by1_tight_288\n",
      "Alt Text: Whole Bean\n",
      "\n",
      "Image Link: https://globalassets.starbucks.com/assets/713f533b151b4d4d92d76eddeb06d4a2.jpg?impolicy=1by1_tight_288\n",
      "Alt Text: VIA® Instant\n",
      "\n",
      "Image Link: https://globalassets.starbucks.com/assets/E202ECCDCC66442A9EBC1E687D67483D.jpg?impolicy=1by1_tight_288\n",
      "Alt Text: Cold Cups\n",
      "\n",
      "Image Link: https://globalassets.starbucks.com/assets/fc26a4ccaf384086b701951d956b3ea8.jpg?impolicy=1by1_tight_288\n",
      "Alt Text: Tumblers\n",
      "\n",
      "Image Link: https://globalassets.starbucks.com/assets/240ba4012d1447779f329e349720f374.jpg?impolicy=1by1_tight_288\n",
      "Alt Text: Mugs\n",
      "\n",
      "Image Link: https://globalassets.starbucks.com/assets/5814e3b108464af6bf3352e87576206b.jpg?impolicy=1by1_tight_288\n",
      "Alt Text: Other\n",
      "\n"
     ]
    }
   ],
   "source": [
    "# Sample\n",
    "with open('html_files/menu.txt') as f:\n",
    "    html = f.read()\n",
    "soup = BeautifulSoup(html, 'html.parser')\n",
    "div_tags = soup.find_all('div', class_='mb3 lg-mb5 gridItem size12of12 md-size6of12')\n",
    "\n",
    "for div_tag in div_tags:\n",
    "    img_tag = div_tag.find('img', class_='imageBlock___30QOb')\n",
    "    image_link = img_tag['src']\n",
    "    alt_text = img_tag['alt']\n",
    "\n",
    "    print(\"Image Link:\", image_link)\n",
    "    print(\"Alt Text:\", alt_text)\n",
    "    print()"
   ]
  },
  {
   "cell_type": "code",
   "execution_count": 3,
   "metadata": {},
   "outputs": [],
   "source": [
    "def download_image(url, file_path):\n",
    "    response = requests.get(url, stream=True)\n",
    "    response.raise_for_status()\n",
    "    with open(file_path, 'wb') as file:\n",
    "        for chunk in response.iter_content(chunk_size=8192):\n",
    "            file.write(chunk)\n",
    "\n",
    "import requests\n",
    "from bs4 import BeautifulSoup\n",
    "\n",
    "def scrapAndDownload(file_name, folder_name):\n",
    "\n",
    "    with open(file_name) as f:\n",
    "        html = f.read()\n",
    "\n",
    "    soup = BeautifulSoup(html, 'html.parser')\n",
    "\n",
    "    image_links = []\n",
    "    alt_texts = []\n",
    "\n",
    "    image_elements = soup.find_all('img', class_='sb-imageFade__imagePositioning sb-imageFade__show')\n",
    "\n",
    "    for img in image_elements:\n",
    "        src = img.get('src')\n",
    "        alt = img.get('alt')\n",
    "        if src:\n",
    "            image_links.append(src)\n",
    "            alt_texts.append(alt)\n",
    "\n",
    "\n",
    "    for link, alt_text in zip(image_links, alt_texts): \n",
    "        image_url = link\n",
    "        file_path = folder_name + '/' + alt_text + '.jpg'\n",
    "        download_image(image_url, file_path)"
   ]
  },
  {
   "cell_type": "code",
   "execution_count": null,
   "metadata": {},
   "outputs": [],
   "source": [
    "scrapAndDownload ('./html_files/hot_teas.txt', 'hot_teas')"
   ]
  },
  {
   "cell_type": "code",
   "execution_count": null,
   "metadata": {},
   "outputs": [],
   "source": [
    "scrapAndDownload('./html_files/hot_coffees.txt', 'hot_coffees')"
   ]
  },
  {
   "cell_type": "code",
   "execution_count": null,
   "metadata": {},
   "outputs": [],
   "source": [
    "scrapAndDownload('./html_files/hot_drinks.txt', './hot_drinks/')"
   ]
  },
  {
   "cell_type": "code",
   "execution_count": null,
   "metadata": {},
   "outputs": [],
   "source": [
    "scrapAndDownload('./html_files/frappuccino.txt', './frappucino/')"
   ]
  },
  {
   "cell_type": "code",
   "execution_count": null,
   "metadata": {},
   "outputs": [],
   "source": [
    "scrapAndDownload('./html_files/cold_coffees.txt', './cold_coffees/')"
   ]
  },
  {
   "cell_type": "code",
   "execution_count": null,
   "metadata": {},
   "outputs": [],
   "source": [
    "scrapAndDownload('./html_files/iced_tea.txt', 'iced_teas')"
   ]
  },
  {
   "cell_type": "code",
   "execution_count": null,
   "metadata": {},
   "outputs": [],
   "source": [
    "scrapAndDownload('./html_files/cold_drinks.txt', 'cold_drinks')"
   ]
  }
 ],
 "metadata": {
  "kernelspec": {
   "display_name": "Python 3 (ipykernel)",
   "language": "python",
   "name": "python3"
  },
  "language_info": {
   "codemirror_mode": {
    "name": "ipython",
    "version": 3
   },
   "file_extension": ".py",
   "mimetype": "text/x-python",
   "name": "python",
   "nbconvert_exporter": "python",
   "pygments_lexer": "ipython3",
   "version": "3.10.9"
  }
 },
 "nbformat": 4,
 "nbformat_minor": 2
}
